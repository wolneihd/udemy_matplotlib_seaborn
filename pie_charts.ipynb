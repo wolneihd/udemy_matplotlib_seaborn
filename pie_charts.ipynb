{
 "cells": [
  {
   "cell_type": "code",
   "execution_count": 1,
   "metadata": {},
   "outputs": [],
   "source": [
    "import pandas as pd\n",
    "import matplotlib.pyplot as plt\n",
    "import numpy as np\n",
    "import seaborn as sns"
   ]
  },
  {
   "cell_type": "code",
   "execution_count": 2,
   "metadata": {},
   "outputs": [],
   "source": [
    "housing_raw = pd.read_csv(\n",
    "    'Data Viz with Matplotlib & Seaborn/Data/housing_data.csv',\n",
    "    parse_dates=['period_begin','period_end'],\n",
    "    dtype={\n",
    "        'total_homes_sold':'Int32',\n",
    "        'region_name':'category'\n",
    "    })"
   ]
  },
  {
   "cell_type": "code",
   "execution_count": 3,
   "metadata": {},
   "outputs": [],
   "source": [
    "# loc: seleciona só o que contem CA\n",
    "# assign: remove o estado + 'county' da str\n",
    "ca_housing = housing_raw.loc[\n",
    "    (housing_raw['region_name'].str.contains('CA'))\n",
    "].assign(region_name = housing_raw['region_name'].str[0:-11])"
   ]
  },
  {
   "cell_type": "code",
   "execution_count": 4,
   "metadata": {},
   "outputs": [
    {
     "data": {
      "text/html": [
       "<div>\n",
       "<style scoped>\n",
       "    .dataframe tbody tr th:only-of-type {\n",
       "        vertical-align: middle;\n",
       "    }\n",
       "\n",
       "    .dataframe tbody tr th {\n",
       "        vertical-align: top;\n",
       "    }\n",
       "\n",
       "    .dataframe thead th {\n",
       "        text-align: right;\n",
       "    }\n",
       "</style>\n",
       "<table border=\"1\" class=\"dataframe\">\n",
       "  <thead>\n",
       "    <tr style=\"text-align: right;\">\n",
       "      <th></th>\n",
       "      <th>region_name</th>\n",
       "      <th>period_begin</th>\n",
       "      <th>period_end</th>\n",
       "      <th>total_homes_sold</th>\n",
       "      <th>inventory</th>\n",
       "      <th>active_listings</th>\n",
       "      <th>age_of_inventory</th>\n",
       "      <th>median_active_list_price</th>\n",
       "      <th>months_of_supply</th>\n",
       "    </tr>\n",
       "  </thead>\n",
       "  <tbody>\n",
       "    <tr>\n",
       "      <th>6</th>\n",
       "      <td>Sacramento</td>\n",
       "      <td>2020-06-22</td>\n",
       "      <td>2020-09-13</td>\n",
       "      <td>5107</td>\n",
       "      <td>1729.0</td>\n",
       "      <td>2206.0</td>\n",
       "      <td>27.5</td>\n",
       "      <td>445540.9</td>\n",
       "      <td>5.235794</td>\n",
       "    </tr>\n",
       "    <tr>\n",
       "      <th>164</th>\n",
       "      <td>Nevada</td>\n",
       "      <td>2018-09-03</td>\n",
       "      <td>2018-11-25</td>\n",
       "      <td>529</td>\n",
       "      <td>480.0</td>\n",
       "      <td>517.0</td>\n",
       "      <td>71.4</td>\n",
       "      <td>557508.3</td>\n",
       "      <td>12.165607</td>\n",
       "    </tr>\n",
       "    <tr>\n",
       "      <th>252</th>\n",
       "      <td>Stanislaus</td>\n",
       "      <td>2017-06-05</td>\n",
       "      <td>2017-08-27</td>\n",
       "      <td>1572</td>\n",
       "      <td>1042.0</td>\n",
       "      <td>1193.0</td>\n",
       "      <td>38.8</td>\n",
       "      <td>320660.0</td>\n",
       "      <td>9.212632</td>\n",
       "    </tr>\n",
       "    <tr>\n",
       "      <th>293</th>\n",
       "      <td>Tehama</td>\n",
       "      <td>2020-01-20</td>\n",
       "      <td>2020-04-12</td>\n",
       "      <td>102</td>\n",
       "      <td>241.0</td>\n",
       "      <td>252.0</td>\n",
       "      <td>99.2</td>\n",
       "      <td>297979.1</td>\n",
       "      <td>31.530228</td>\n",
       "    </tr>\n",
       "    <tr>\n",
       "      <th>304</th>\n",
       "      <td>Stanislaus</td>\n",
       "      <td>2017-11-13</td>\n",
       "      <td>2018-02-04</td>\n",
       "      <td>1200</td>\n",
       "      <td>797.0</td>\n",
       "      <td>907.0</td>\n",
       "      <td>56.5</td>\n",
       "      <td>330049.9</td>\n",
       "      <td>9.744362</td>\n",
       "    </tr>\n",
       "  </tbody>\n",
       "</table>\n",
       "</div>"
      ],
      "text/plain": [
       "    region_name period_begin period_end  total_homes_sold  inventory  \\\n",
       "6    Sacramento   2020-06-22 2020-09-13              5107     1729.0   \n",
       "164      Nevada   2018-09-03 2018-11-25               529      480.0   \n",
       "252  Stanislaus   2017-06-05 2017-08-27              1572     1042.0   \n",
       "293      Tehama   2020-01-20 2020-04-12               102      241.0   \n",
       "304  Stanislaus   2017-11-13 2018-02-04              1200      797.0   \n",
       "\n",
       "     active_listings  age_of_inventory  median_active_list_price  \\\n",
       "6             2206.0              27.5                  445540.9   \n",
       "164            517.0              71.4                  557508.3   \n",
       "252           1193.0              38.8                  320660.0   \n",
       "293            252.0              99.2                  297979.1   \n",
       "304            907.0              56.5                  330049.9   \n",
       "\n",
       "     months_of_supply  \n",
       "6            5.235794  \n",
       "164         12.165607  \n",
       "252          9.212632  \n",
       "293         31.530228  \n",
       "304          9.744362  "
      ]
     },
     "execution_count": 4,
     "metadata": {},
     "output_type": "execute_result"
    }
   ],
   "source": [
    "ca_housing.head()"
   ]
  },
  {
   "cell_type": "code",
   "execution_count": 7,
   "metadata": {},
   "outputs": [],
   "source": [
    "LA = ca_housing[ca_housing['region_name'] == 'Los Angeles']['total_homes_sold'].sum()\n",
    "SF = ca_housing[ca_housing['region_name'] == 'San Francisco']['total_homes_sold'].sum()\n",
    "SD = ca_housing[ca_housing['region_name'] == 'San Diego']['total_homes_sold'].sum()"
   ]
  },
  {
   "cell_type": "code",
   "execution_count": 9,
   "metadata": {},
   "outputs": [
    {
     "data": {
      "text/html": [
       "<div>\n",
       "<style scoped>\n",
       "    .dataframe tbody tr th:only-of-type {\n",
       "        vertical-align: middle;\n",
       "    }\n",
       "\n",
       "    .dataframe tbody tr th {\n",
       "        vertical-align: top;\n",
       "    }\n",
       "\n",
       "    .dataframe thead th {\n",
       "        text-align: right;\n",
       "    }\n",
       "</style>\n",
       "<table border=\"1\" class=\"dataframe\">\n",
       "  <thead>\n",
       "    <tr style=\"text-align: right;\">\n",
       "      <th></th>\n",
       "      <th>Los Angeles</th>\n",
       "      <th>San Francisco</th>\n",
       "      <th>San Diego</th>\n",
       "    </tr>\n",
       "  </thead>\n",
       "  <tbody>\n",
       "    <tr>\n",
       "      <th>0</th>\n",
       "      <td>4622703</td>\n",
       "      <td>371776</td>\n",
       "      <td>2373289</td>\n",
       "    </tr>\n",
       "  </tbody>\n",
       "</table>\n",
       "</div>"
      ],
      "text/plain": [
       "   Los Angeles  San Francisco  San Diego\n",
       "0      4622703         371776    2373289"
      ]
     },
     "execution_count": 9,
     "metadata": {},
     "output_type": "execute_result"
    }
   ],
   "source": [
    "pd.DataFrame({\n",
    "    'Los Angeles': [LA],\n",
    "    'San Francisco': [SF],\n",
    "    'San Diego': [SD],\n",
    "})"
   ]
  },
  {
   "cell_type": "code",
   "execution_count": 10,
   "metadata": {},
   "outputs": [
    {
     "data": {
      "text/html": [
       "<div>\n",
       "<style scoped>\n",
       "    .dataframe tbody tr th:only-of-type {\n",
       "        vertical-align: middle;\n",
       "    }\n",
       "\n",
       "    .dataframe tbody tr th {\n",
       "        vertical-align: top;\n",
       "    }\n",
       "\n",
       "    .dataframe thead th {\n",
       "        text-align: right;\n",
       "    }\n",
       "</style>\n",
       "<table border=\"1\" class=\"dataframe\">\n",
       "  <thead>\n",
       "    <tr style=\"text-align: right;\">\n",
       "      <th></th>\n",
       "      <th>total_homes_sold</th>\n",
       "    </tr>\n",
       "    <tr>\n",
       "      <th>region_name</th>\n",
       "      <th></th>\n",
       "    </tr>\n",
       "  </thead>\n",
       "  <tbody>\n",
       "    <tr>\n",
       "      <th>Los Angeles</th>\n",
       "      <td>4622703</td>\n",
       "    </tr>\n",
       "    <tr>\n",
       "      <th>San Diego</th>\n",
       "      <td>2373289</td>\n",
       "    </tr>\n",
       "    <tr>\n",
       "      <th>San Francisco</th>\n",
       "      <td>371776</td>\n",
       "    </tr>\n",
       "  </tbody>\n",
       "</table>\n",
       "</div>"
      ],
      "text/plain": [
       "               total_homes_sold\n",
       "region_name                    \n",
       "Los Angeles             4622703\n",
       "San Diego               2373289\n",
       "San Francisco            371776"
      ]
     },
     "execution_count": 10,
     "metadata": {},
     "output_type": "execute_result"
    }
   ],
   "source": [
    "#ca_housing.query(\"region_name in ['San Francisco','Los Angeles','San Diego']\")\n",
    "sales_total = ca_housing[ca_housing['region_name'].isin(['San Francisco', 'Los Angeles', 'San Diego'])].groupby('region_name').agg({'total_homes_sold':'sum'})\n",
    "sales_total"
   ]
  },
  {
   "cell_type": "code",
   "execution_count": 11,
   "metadata": {},
   "outputs": [
    {
     "data": {
      "text/plain": [
       "Text(0.5, 1.0, 'Share of Home Sales Selected in CA Markets')"
      ]
     },
     "execution_count": 11,
     "metadata": {},
     "output_type": "execute_result"
    },
    {
     "data": {
      "image/png": "[encoded data removed]",
      "text/plain": [
       "<Figure size 640x480 with 1 Axes>"
      ]
     },
     "metadata": {},
     "output_type": "display_data"
    }
   ],
   "source": [
    "fig, ax = plt.subplots()\n",
    "\n",
    "ax.pie(\n",
    "    x=sales_total['total_homes_sold'],\n",
    "    startangle=90,\n",
    "    labels=sales_total.index,\n",
    "    #explode=(0,0,.14)\n",
    ")\n",
    "\n",
    "hole = plt.Circle((0,0), 0.70, fc='white')\n",
    "fig = plt.gcf()\n",
    "\n",
    "fig.gca().add_artist(hole)\n",
    "ax.set_title('Share of Home Sales Selected in CA Markets')"
   ]
  }
 ],
 "metadata": {
  "kernelspec": {
   "display_name": "Python 3",
   "language": "python",
   "name": "python3"
  },
  "language_info": {
   "codemirror_mode": {
    "name": "ipython",
    "version": 3
   },
   "file_extension": ".py",
   "mimetype": "text/x-python",
   "name": "python",
   "nbconvert_exporter": "python",
   "pygments_lexer": "ipython3",
   "version": "3.12.3"
  }
 },
 "nbformat": 4,
 "nbformat_minor": 2
}
